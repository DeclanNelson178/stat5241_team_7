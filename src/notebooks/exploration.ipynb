{
 "cells": [
  {
   "cell_type": "code",
   "execution_count": 72,
   "id": "e5b4eade",
   "metadata": {},
   "outputs": [
    {
     "name": "stdout",
     "output_type": "stream",
     "text": [
      "['congress', 'chamber', 'rollnumber', 'date', 'session', 'clerk_rollnumber', 'yea_count', 'nay_count', 'nominate_mid_1', 'nominate_mid_2', 'nominate_spread_1', 'nominate_spread_2', 'nominate_log_likelihood', 'bill_number', 'vote_result', 'vote_desc', 'vote_question', 'dtl_desc']\n"
     ]
    },
    {
     "name": "stderr",
     "output_type": "stream",
     "text": [
      "/var/folders/y7/rdkd1_7d3b9fjykc4g2vvjl00000gn/T/ipykernel_42645/3573429095.py:3: DtypeWarning: Columns (14,15,16,17) have mixed types. Specify dtype option on import or set low_memory=False.\n",
      "  df = pd.read_csv(\"data/raw_data/house_senate_rollcalls.csv\")\n"
     ]
    },
    {
     "ename": "NameError",
     "evalue": "name 'kprint' is not defined",
     "output_type": "error",
     "traceback": [
      "\u001b[31m---------------------------------------------------------------------------\u001b[39m",
      "\u001b[31mNameError\u001b[39m                                 Traceback (most recent call last)",
      "\u001b[36mCell\u001b[39m\u001b[36m \u001b[39m\u001b[32mIn[72]\u001b[39m\u001b[32m, line 5\u001b[39m\n\u001b[32m      3\u001b[39m df = pd.read_csv(\u001b[33m\"\u001b[39m\u001b[33mdata/raw_data/house_senate_rollcalls.csv\u001b[39m\u001b[33m\"\u001b[39m)\n\u001b[32m      4\u001b[39m \u001b[38;5;28mprint\u001b[39m([*df.columns])\n\u001b[32m----> \u001b[39m\u001b[32m5\u001b[39m \u001b[43mkprint\u001b[49m(df.shape)\n",
      "\u001b[31mNameError\u001b[39m: name 'kprint' is not defined"
     ]
    }
   ],
   "source": [
    "import pandas as pd\n",
    "\n",
    "df = pd.read_csv(\"data/raw_data/house_senate_rollcalls.csv\")\n",
    "print([*df.columns])\n",
    "kprint(df.shape)"
   ]
  },
  {
   "cell_type": "code",
   "execution_count": null,
   "id": "92fa2a55",
   "metadata": {},
   "outputs": [
    {
     "data": {
      "text/plain": [
       "vote_result\n",
       "Passed                 6282\n",
       "Failed                 6193\n",
       "Agreed to              2609\n",
       "Amendment Rejected     1456\n",
       "Amendment Agreed to    1363\n",
       "Name: count, dtype: int64"
      ]
     },
     "execution_count": 63,
     "metadata": {},
     "output_type": "execute_result"
    }
   ],
   "source": [
    "df[\"vote_result\"].value_counts().head() # what was the outcome of the vote"
   ]
  },
  {
   "cell_type": "code",
   "execution_count": 73,
   "id": "2c2b58d7",
   "metadata": {},
   "outputs": [
    {
     "data": {
      "text/plain": [
       "vote_desc\n",
       "In the nature of a substitute.                       259\n",
       "Of a perfecting nature.                               70\n",
       "No Statement of Purpose on File.                      26\n",
       "To improve the bill.                                  26\n",
       "Raising a question of the privileges of the House     22\n",
       "Name: count, dtype: int64"
      ]
     },
     "execution_count": 73,
     "metadata": {},
     "output_type": "execute_result"
    }
   ],
   "source": [
    "df[\"vote_desc\"].value_counts().head() # this is a general \"bill title\""
   ]
  },
  {
   "cell_type": "code",
   "execution_count": 74,
   "id": "e27438ef",
   "metadata": {},
   "outputs": [
    {
     "data": {
      "text/plain": [
       "vote_question\n",
       "On Agreeing to the Amendment     7213\n",
       "On the Amendment                 3548\n",
       "On Passage                       2369\n",
       "On Agreeing to the Resolution    2038\n",
       "On the Cloture Motion            1945\n",
       "Name: count, dtype: int64"
      ]
     },
     "execution_count": 74,
     "metadata": {},
     "output_type": "execute_result"
    }
   ],
   "source": [
    "df[\"vote_question\"].value_counts().head() # what type of vote is this"
   ]
  },
  {
   "cell_type": "code",
   "execution_count": 75,
   "id": "513082aa",
   "metadata": {},
   "outputs": [
    {
     "data": {
      "text/plain": [
       "dtl_desc\n",
       "TO ADJOURN.                                                                       559\n",
       "TO ORDER A CALL OF THE HOUSE.                                                      66\n",
       "TO GO INTO EXECUTIVE SESSION.                                                      56\n",
       "TO INSTRUCT THE SERGEANT-AT-ARMS TO REQUEST THE ATTENDANCE OF ABSENT SENATORS.     55\n",
       "JOURNAL QUESTION: ON APPROVING THE JOURNAL                                         55\n",
       "Name: count, dtype: int64"
      ]
     },
     "execution_count": 75,
     "metadata": {},
     "output_type": "execute_result"
    }
   ],
   "source": [
    "df[\"dtl_desc\"].value_counts().head() # summary of the bill"
   ]
  },
  {
   "cell_type": "code",
   "execution_count": null,
   "id": "f38124d0",
   "metadata": {},
   "outputs": [
    {
     "name": "stdout",
     "output_type": "stream",
     "text": [
      "(25624, 18)\n"
     ]
    }
   ],
   "source": [
    "# we require the following fields in order for the entry to have data:\n",
    "required_fields = [\"congress\", \"bill_number\", \"vote_result\", \"vote_desc\", \"vote_question\"]\n",
    "df = df.dropna(subset=required_fields)\n",
    "print(df.shape)"
   ]
  },
  {
   "cell_type": "markdown",
   "id": "b2efc686",
   "metadata": {},
   "source": [
    "First, we want to filter down to the final vote for house and senate bills. The dataset includes all votes that occurred in either house (e.g. resolutions, questions, ammendments, etc.). We just want the final vote on the bill. Specifically a bill, not a \"resolution\" which is used for issuing statements or modifying internal house rules.\n",
    "\n",
    "We can identify the starting point for bills by finding all entries w/ bill_number HRxx or Sxx where xx is an integer. "
   ]
  },
  {
   "cell_type": "code",
   "execution_count": null,
   "id": "e52bf4a2",
   "metadata": {},
   "outputs": [
    {
     "data": {
      "text/plain": [
       "(71419, 19)"
      ]
     },
     "execution_count": 53,
     "metadata": {},
     "output_type": "execute_result"
    }
   ],
   "source": [
    "df[\"bill_type\"] = df[\"bill_number\"].str.replace(r'\\d+', '', regex=True)\n",
    "df = df[df[\"bill_type\"].isin([\"HR\", \"S\"])]\n",
    "kdf.shape"
   ]
  },
  {
   "cell_type": "code",
   "execution_count": null,
   "id": "f4cb8655",
   "metadata": {},
   "outputs": [],
   "source": [
    "# remove any et"
   ]
  },
  {
   "cell_type": "code",
   "execution_count": 56,
   "id": "a5a461cc",
   "metadata": {},
   "outputs": [
    {
     "data": {
      "text/plain": [
       "congress  bill_number\n",
       "1         HR10                                                       [nan]\n",
       "          HR110                                                      [nan]\n",
       "          HR114                                                      [nan]\n",
       "          HR126                                                      [nan]\n",
       "          HR135                                                      [nan]\n",
       "                                               ...                        \n",
       "119       S1582          [Cloture Motion Rejected, Cloture on the Motio...\n",
       "          S331           [Passed, Cloture on the Motion to Proceed Agre...\n",
       "          S5             [Passed, Cloture Motion Agreed to, Motion to P...\n",
       "          S6                   [Cloture on the Motion to Proceed Rejected]\n",
       "          S9                   [Cloture on the Motion to Proceed Rejected]\n",
       "Name: vote_result, Length: 19028, dtype: object"
      ]
     },
     "execution_count": 56,
     "metadata": {},
     "output_type": "execute_result"
    }
   ],
   "source": [
    "df.groupby([\"congress\", \"bill_number\"])[\"vote_result\"].unique()"
   ]
  },
  {
   "cell_type": "code",
   "execution_count": null,
   "id": "8268f555",
   "metadata": {},
   "outputs": [],
   "source": [
    "df[\"vote_desc\"]"
   ]
  }
 ],
 "metadata": {
  "kernelspec": {
   "display_name": "env",
   "language": "python",
   "name": "python3"
  },
  "language_info": {
   "codemirror_mode": {
    "name": "ipython",
    "version": 3
   },
   "file_extension": ".py",
   "mimetype": "text/x-python",
   "name": "python",
   "nbconvert_exporter": "python",
   "pygments_lexer": "ipython3",
   "version": "3.13.0"
  }
 },
 "nbformat": 4,
 "nbformat_minor": 5
}
