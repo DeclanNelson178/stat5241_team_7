{
 "cells": [
  {
   "cell_type": "code",
   "execution_count": 291,
   "id": "c281f86c",
   "metadata": {},
   "outputs": [],
   "source": [
    "import pandas as pd\n",
    "import requests\n",
    "import numpy as np\n",
    "from collections import defaultdict"
   ]
  },
  {
   "cell_type": "code",
   "execution_count": null,
   "id": "e12f3ffc",
   "metadata": {},
   "outputs": [],
   "source": [
    "import requests\n",
    "\n",
    "congress = 118\n",
    "chamber = \"house\"\n",
    "rollnumber = 45\n",
    "\n",
    "# query the raw data source\n",
    "url = f\"https://voteview.com/static/data/out/rollcalls/HSall_rollcalls.json\"\n",
    "response = requests.get(url)\n",
    "\n",
    "if response.status_code == 200:\n",
    "    data = response.json()\n",
    "else:\n",
    "    print(\"Error:\", response.status_code)"
   ]
  },
  {
   "cell_type": "code",
   "execution_count": 309,
   "id": "ee5e803e",
   "metadata": {},
   "outputs": [
    {
     "name": "stdout",
     "output_type": "stream",
     "text": [
      "Index(['nominate_log_likelihood', 'vote_desc', 'clausen_codes', 'yea_count',\n",
      "       'session', 'bill_number', 'dtl_desc', 'nominate_mid_1', 'issue_codes',\n",
      "       'nay_count', 'congress', 'nominate_mid_2', 'rollnumber', 'date',\n",
      "       'crs_subjects', 'chamber', 'peltzman_codes', 'nominate_spread_1',\n",
      "       'crs_policy_area', 'nominate_spread_2', 'vote_result', 'vote_question'],\n",
      "      dtype='object')\n",
      "(112461, 22)\n"
     ]
    }
   ],
   "source": [
    "# create initial dataframe\n",
    "df = pd.DataFrame.from_records(data).drop(columns=[\"clerk_rollnumber\", \"source_documents\"]).drop(columns=[\"congress_url\"])\n",
    "print(df.columns)\n",
    "print(df.shape)"
   ]
  },
  {
   "cell_type": "code",
   "execution_count": 310,
   "id": "06ae4ecb",
   "metadata": {},
   "outputs": [
    {
     "name": "stdout",
     "output_type": "stream",
     "text": [
      "(33040, 22)\n"
     ]
    }
   ],
   "source": [
    "# baseline cleaning -- require an indentifier to work with\n",
    "df = df.dropna(subset=[\"congress\", \"bill_number\", \"rollnumber\", \"vote_question\"])\n",
    "df[\"congress\"] = df[\"congress\"].astype(int)\n",
    "df[\"bill_number\"] = df[\"bill_number\"].astype(str).str.lower().str.strip()\n",
    "df[\"vote_question\"] = df[\"vote_question\"].astype(str).str.lower().str.strip()\n",
    "df[\"rollnumber\"] = df[\"rollnumber\"].astype(int)\n",
    "print(df.shape)"
   ]
  },
  {
   "cell_type": "code",
   "execution_count": 311,
   "id": "d8c91e0c",
   "metadata": {},
   "outputs": [
    {
     "data": {
      "text/plain": [
       "bill_type\n",
       "hr         18045\n",
       "hres        4544\n",
       "s           4537\n",
       "pn          3069\n",
       "sconres      899\n",
       "Name: count, dtype: int64"
      ]
     },
     "execution_count": 311,
     "metadata": {},
     "output_type": "execute_result"
    }
   ],
   "source": [
    "# find the different types of bills\n",
    "df[\"bill_type\"] = df[\"bill_number\"].str.replace(r'\\d+', '', regex=True)\n",
    "df[\"bill_type\"].value_counts().head()"
   ]
  },
  {
   "cell_type": "code",
   "execution_count": 312,
   "id": "653f213f",
   "metadata": {},
   "outputs": [
    {
     "data": {
      "text/plain": [
       "(23496, 23)"
      ]
     },
     "execution_count": 312,
     "metadata": {},
     "output_type": "execute_result"
    }
   ],
   "source": [
    "# these are canonical bills, the other bill types are resolutions, treaties, procedural and nomations\n",
    "bill_types = [\"hr\", \"s\", \"hj\", \"hjr\", \"hjres\", \"hjre\", \"sj\", \"sjr\", \"sjres\", \"sjre\"]\n",
    "df = df.loc[df[\"bill_type\"].isin(bill_types)]\n",
    "df.shape"
   ]
  },
  {
   "cell_type": "code",
   "execution_count": 313,
   "id": "02bae6a6",
   "metadata": {},
   "outputs": [
    {
     "name": "stdout",
     "output_type": "stream",
     "text": [
      "(23496, 23)\n"
     ]
    }
   ],
   "source": [
    "# Remove any rows that are unusable -- you need to have a bill, a vote, and a location of the vote\n",
    "df = df.dropna(subset=[\"yea_count\", \"nay_count\", \"chamber\"], how=\"any\")\n",
    "print(df.shape)"
   ]
  },
  {
   "cell_type": "code",
   "execution_count": 314,
   "id": "ed923b5b",
   "metadata": {},
   "outputs": [
    {
     "name": "stdout",
     "output_type": "stream",
     "text": [
      "414 number of different vote questions\n",
      "Filtering to the top 100 vote types keeps 98.49% of data\n"
     ]
    },
    {
     "data": {
      "text/plain": [
       "vote_question\n",
       "on agreeing to the amendment                           7116\n",
       "on the amendment                                       2882\n",
       "on passage                                             2370\n",
       "on the motion to table                                 1555\n",
       "on motion to suspend the rules and pass                1523\n",
       "on motion to suspend the rules and pass, as amended    1433\n",
       "on the motion                                           975\n",
       "on motion to recommit with instructions                 952\n",
       "on the cloture motion                                   800\n",
       "on passage of the bill                                  778\n",
       "on agreeing to the conference report                    365\n",
       "on the conference report                                266\n",
       "on motion to instruct conferees                         242\n",
       "on the joint resolution                                 176\n",
       "on cloture on the motion to proceed                     175\n",
       "on motion to recommit                                   164\n",
       "suspend the rules and pass, as amended                  160\n",
       "on the motion to proceed                                154\n",
       "on motion that the committee rise                        67\n",
       "suspend the rules and pass                               53\n",
       "Name: count, dtype: int64"
      ]
     },
     "execution_count": 314,
     "metadata": {},
     "output_type": "execute_result"
    }
   ],
   "source": [
    "# we now need to determine which type of votes to include\n",
    "# clean vote questions\n",
    "vote_questions = df[\"vote_question\"].dropna().unique()\n",
    "print(f\"{len(vote_questions)} number of different vote questions\")\n",
    "top_100 = df[\"vote_question\"].value_counts().head(100)\n",
    "print(f\"Filtering to the top 100 vote types keeps {top_100.sum() / df.shape[0]:.2%} of data\")\n",
    "top_100.head(20)"
   ]
  },
  {
   "cell_type": "code",
   "execution_count": 315,
   "id": "add052e2",
   "metadata": {},
   "outputs": [],
   "source": [
    "vote_type_groups = {\n",
    "  # this is a vote in favor of the amendment\n",
    "  \"amend\": [\n",
    "    \"on agreeing to the amendment\",\n",
    "    \"on the amendment\",\n",
    "    \"on agreeing to the amendments en bloc\",\n",
    "    \"on agreeing to the substitute amendment\",\n",
    "    \"on agreeing to the amendments\",\n",
    "    \"on agreeing to the amendment, as amended\",\n",
    "    \"on agreeing to the senate amendment\",\n",
    "    \"on agreeing to the amendment, as modified\",\n",
    "    \"whether the amendment is germane\"\n",
    "  ],\n",
    "  # this is a passage of the bill\n",
    "  \"pass\": [\n",
    "    \"on passage\",\n",
    "    \"on passage of the bill\",\n",
    "    \"passage, objections of the president notwithstanding\",\n",
    "    \"passage, objections of the president not withstanding\",\n",
    "    \"passage, objections of the president to the contrary notwithstanding\",\n",
    "    \"passage, objections ofthe president notwithstanding\",\n",
    "    \"passage, objection of the president notwithstanding\"\n",
    "  ],\n",
    "  # tabling is way to kill a bill -- a vote yes here is equivalent to voting no on the bill\n",
    "  \"table\": [\n",
    "    \"on the motion to table\",\n",
    "    \"table motion to reconsider\",\n",
    "  ],\n",
    "  # suspending rules means that the bill is fast tracked to a vote -- it is essentially a vote in favor of the bill\n",
    "  \"suspend\": [\n",
    "    \"on motion to suspend the rules and pass\",\n",
    "    \"on motion to suspend the rules and pass, as amended\",\n",
    "    \"suspend the rules and pass, as amended\",\n",
    "    \"suspend the rules and pass\",\n",
    "    \"suspend the rules and pass as amended\",\n",
    "    \"suspend the rules and agree to senate amendment\",\n",
    "    \"motion to suspend the rules and pass, as amended\",\n",
    "    \"suspend the rules and agree to senate amendments\",\n",
    "    \"suspend rules and pass, as amended\",\n",
    "    \"suspend rules and passas amended\",\n",
    "    \"motion to suspend the rules and pass\",\n",
    "    \"suspend the rules and concur in the senate amendment\",\n",
    "    \"suspend the rules and agree to the senate amendment\",\n",
    "    \"suspend the rules and agree to conference report\",\n",
    "    \"on motion to suspend rules and pass\",\n",
    "    \"on motion to suspend rules and pass, as amended\"\n",
    "  ],\n",
    "  # requesting changes to the bill -- tatic used to stall or kill the bill\n",
    "  \"recommit\": [\n",
    "    \"on motion to recommit with instructions\",\n",
    "    \"on motion to recommit\",\n",
    "    \"on the motion to recommit\",\n",
    "    \"on motion to commit with instructions\",\n",
    "    \"on motion to recommit the conference report\",\n",
    "    \"recommit conference report with instructions\",\n",
    "    \"recommit the conference report with instructions\",\n",
    "    \"on motion to recommit conference report with instructions\",\n",
    "    \"motion to recommit conference report with instructions\",\n",
    "    \"on motion to commit\"\n",
    "  ],\n",
    "  # end debate a proceed to the vote -- often indicates a willingness to vote yes\n",
    "  \"cloture\": [\n",
    "    \"on the cloture motion\",\n",
    "    \"on cloture on the motion to proceed\",\n",
    "  ],\n",
    "  # agreeing to the bill as passed by the other house -- voting yes\n",
    "  \"conference\": [\n",
    "    \"on agreeing to the conference report\",\n",
    "    \"on the conference report\",\n",
    "    \"on motion to suspend the rules and agree to the conference report\",\n",
    "  ],\n",
    "  # enact the bill regardless of the presidential veto -- strongly voting yes\n",
    "  \"veto\": [\n",
    "    \"on overriding the veto\",\n",
    "    \"on presidential veto\"\n",
    "  ],\n",
    "  # accept changes made by the senate -- voting yes\n",
    "  \"concur\": [\n",
    "    \"on motion to suspend the rules and concur in the senate amendment\",\n",
    "    \"on motion to concur in the senate amendment\",\n",
    "    \"on motion to concur in the senate amendment with an amendment\",\n",
    "    \"on motion to suspend the rules and concur in the senate amendments\",\n",
    "    \"on motion to concur in the senate amendments\",\n",
    "    \"on motion to concur in senate amendments\",\n",
    "    \"on motion to agree to the senate amendment\",\n",
    "    \"on motion to concur in the senate adt to the house adt to the senate adt\",\n",
    "    \"on motion to concur in the senate amdt to the house amdt to the senate amdt\",\n",
    "    \"agree to senate amendments\"\n",
    "  ]\n",
    "}"
   ]
  },
  {
   "cell_type": "code",
   "execution_count": 316,
   "id": "cd715d0f",
   "metadata": {},
   "outputs": [
    {
     "data": {
      "text/plain": [
       "(21127, 23)"
      ]
     },
     "execution_count": 316,
     "metadata": {},
     "output_type": "execute_result"
    }
   ],
   "source": [
    "valid_vote_questions = []\n",
    "for vote_type, vote_questions in vote_type_groups.items():\n",
    "    valid_vote_questions.extend(vote_questions)\n",
    "\n",
    "df = df.loc[df[\"vote_question\"].isin(valid_vote_questions)]\n",
    "df.shape"
   ]
  },
  {
   "cell_type": "code",
   "execution_count": 317,
   "id": "c53d43c3",
   "metadata": {},
   "outputs": [],
   "source": [
    "vote_question_to_vote_type = defaultdict(None)\n",
    "for vote_type, vote_questions in vote_type_groups.items():\n",
    "    vote_question_to_vote_type.update({vote_question: vote_type for vote_question in vote_questions})"
   ]
  },
  {
   "cell_type": "code",
   "execution_count": 318,
   "id": "d1a9dff1",
   "metadata": {},
   "outputs": [
    {
     "data": {
      "text/plain": [
       "vote_type\n",
       "amend         10103\n",
       "suspend        3273\n",
       "pass           3185\n",
       "table          1582\n",
       "recommit       1199\n",
       "cloture         975\n",
       "conference      636\n",
       "concur          131\n",
       "veto             43\n",
       "Name: count, dtype: int64"
      ]
     },
     "execution_count": 318,
     "metadata": {},
     "output_type": "execute_result"
    }
   ],
   "source": [
    "df[\"vote_type\"] = df[\"vote_question\"].replace(vote_question_to_vote_type)\n",
    "df = df.drop(columns=\"vote_question\")\n",
    "df[\"vote_type\"].value_counts()"
   ]
  },
  {
   "cell_type": "code",
   "execution_count": 319,
   "id": "0bf9ee41",
   "metadata": {},
   "outputs": [
    {
     "data": {
      "text/plain": [
       "vote_result\n",
       "Failed                                        6040\n",
       "Passed                                        5958\n",
       "Agreed to                                     2611\n",
       "Amendment Rejected                            1494\n",
       "Amendment Agreed to                           1388\n",
       "Motion to Table Agreed to                     1273\n",
       "Bill Passed                                    765\n",
       "Cloture Motion Agreed to                       422\n",
       "Cloture Motion Rejected                        378\n",
       "Motion to Table Failed                         282\n",
       "Conference Report Agreed to                    265\n",
       "Cloture on the Motion to Proceed Rejected       90\n",
       "Cloture on the Motion to Proceed Agreed to      85\n",
       "Veto Sustained                                  25\n",
       "Bill Defeated                                   13\n",
       "Veto Overridden                                 11\n",
       "Motion to Recommit Rejected                     10\n",
       "Amendment Not Germane                           10\n",
       "Amendment Germane                                6\n",
       "Conference Report Rejected                       1\n",
       "Name: count, dtype: int64"
      ]
     },
     "execution_count": 319,
     "metadata": {},
     "output_type": "execute_result"
    }
   ],
   "source": [
    "df[\"vote_result\"].value_counts()"
   ]
  },
  {
   "cell_type": "code",
   "execution_count": 320,
   "id": "f8fd0d77",
   "metadata": {},
   "outputs": [
    {
     "data": {
      "text/plain": [
       "(['Passed',\n",
       "  'Agreed to',\n",
       "  'Amendment Agreed to',\n",
       "  'Bill Passed',\n",
       "  'Motion to Table Agreed to',\n",
       "  'Conference Report Agreed to',\n",
       "  'Cloture Motion Agreed to',\n",
       "  'Amendment Germane',\n",
       "  'Amendment Not Germane',\n",
       "  'Veto Overridden',\n",
       "  'Cloture on the Motion to Proceed Agreed to'],\n",
       " ['Failed',\n",
       "  'Amendment Rejected',\n",
       "  'Motion to Recommit Rejected',\n",
       "  'Motion to Table Failed',\n",
       "  'Veto Sustained',\n",
       "  'Cloture Motion Rejected',\n",
       "  'Cloture on the Motion to Proceed Rejected',\n",
       "  'Bill Defeated',\n",
       "  'Conference Report Rejected'])"
      ]
     },
     "execution_count": 320,
     "metadata": {},
     "output_type": "execute_result"
    }
   ],
   "source": [
    "vote_results = df[\"vote_result\"].unique()\n",
    "passed_results = [res for res in vote_results if any(res_type in res.lower() for res_type in [\"passed\", \"agreed\", \"overridden\", \"germane\"])]\n",
    "failed_results = [res for res in vote_results if res not in passed_results]\n",
    "passed_results, failed_results"
   ]
  },
  {
   "cell_type": "code",
   "execution_count": 321,
   "id": "7d66e399",
   "metadata": {},
   "outputs": [
    {
     "data": {
      "text/plain": [
       "vote_passed\n",
       "True     12794\n",
       "False     8333\n",
       "Name: count, dtype: int64"
      ]
     },
     "execution_count": 321,
     "metadata": {},
     "output_type": "execute_result"
    }
   ],
   "source": [
    "df[\"vote_passed\"] = df[\"vote_result\"].isin(passed_results).fillna(False)\n",
    "df[\"vote_passed\"].value_counts()"
   ]
  },
  {
   "cell_type": "code",
   "execution_count": 322,
   "id": "01ddbc7e",
   "metadata": {},
   "outputs": [
    {
     "data": {
      "text/plain": [
       "(21127, 24)"
      ]
     },
     "execution_count": 322,
     "metadata": {},
     "output_type": "execute_result"
    }
   ],
   "source": [
    "df.shape"
   ]
  },
  {
   "cell_type": "code",
   "execution_count": null,
   "id": "4b7321e1",
   "metadata": {},
   "outputs": [],
   "source": []
  }
 ],
 "metadata": {
  "kernelspec": {
   "display_name": "env",
   "language": "python",
   "name": "python3"
  },
  "language_info": {
   "codemirror_mode": {
    "name": "ipython",
    "version": 3
   },
   "file_extension": ".py",
   "mimetype": "text/x-python",
   "name": "python",
   "nbconvert_exporter": "python",
   "pygments_lexer": "ipython3",
   "version": "3.13.0"
  }
 },
 "nbformat": 4,
 "nbformat_minor": 5
}
