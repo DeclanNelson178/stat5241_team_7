{
 "cells": [
  {
   "cell_type": "code",
   "execution_count": 7,
   "id": "b5719ea5",
   "metadata": {},
   "outputs": [
    {
     "name": "stdout",
     "output_type": "stream",
     "text": [
      "Loading cached data from /Users/declannelson/Desktop/columbia/stat5241/stat5241_team_7/src/data/rollcall_crs_policy_5.parquet\n"
     ]
    }
   ],
   "source": [
    "import sys\n",
    "sys.path.append(\"../..\")\n",
    "from src.data_loaders.rollcall import get_rollcall_data_crs_policy_areas, query_rollcall_data\n",
    "df = get_rollcall_data_crs_policy_areas()"
   ]
  },
  {
   "cell_type": "code",
   "execution_count": null,
   "id": "0d7b3909",
   "metadata": {},
   "outputs": [
    {
     "data": {
      "text/plain": [
       "<pandas.core.groupby.generic.DataFrameGroupBy object at 0x329e067b0>"
      ]
     },
     "execution_count": 6,
     "metadata": {},
     "output_type": "execute_result"
    }
   ],
   "source": [
    "df.sort_index().groupby([\"congress\", \"bill_number\"])"
   ]
  },
  {
   "cell_type": "code",
   "execution_count": 11,
   "id": "1759ea91",
   "metadata": {},
   "outputs": [],
   "source": [
    "df = query_rollcall_data()"
   ]
  },
  {
   "cell_type": "code",
   "execution_count": 14,
   "id": "8ad90b15",
   "metadata": {},
   "outputs": [
    {
     "data": {
      "text/plain": [
       "('1789-05-16', '2025-06-12')"
      ]
     },
     "execution_count": 14,
     "metadata": {},
     "output_type": "execute_result"
    }
   ],
   "source": [
    "df[\"date\"].min(), df[\"date\"].max()"
   ]
  },
  {
   "cell_type": "code",
   "execution_count": 15,
   "id": "a8c8937d",
   "metadata": {},
   "outputs": [
    {
     "data": {
      "text/plain": [
       "Index(['nominate_log_likelihood', 'vote_desc', 'clausen_codes', 'yea_count',\n",
       "       'session', 'bill_number', 'dtl_desc', 'nominate_mid_1',\n",
       "       'source_documents', 'issue_codes', 'congress_url', 'nay_count',\n",
       "       'congress', 'nominate_mid_2', 'rollnumber', 'date', 'crs_subjects',\n",
       "       'chamber', 'peltzman_codes', 'nominate_spread_1', 'crs_policy_area',\n",
       "       'nominate_spread_2', 'vote_result', 'clerk_rollnumber',\n",
       "       'vote_question'],\n",
       "      dtype='object')"
      ]
     },
     "execution_count": 15,
     "metadata": {},
     "output_type": "execute_result"
    }
   ],
   "source": [
    "df.columns"
   ]
  },
  {
   "cell_type": "code",
   "execution_count": 19,
   "id": "f30e206a",
   "metadata": {},
   "outputs": [
    {
     "data": {
      "text/plain": [
       "722"
      ]
     },
     "execution_count": 19,
     "metadata": {},
     "output_type": "execute_result"
    }
   ],
   "source": [
    "len(df[\"vote_question\"].unique())"
   ]
  },
  {
   "cell_type": "code",
   "execution_count": 21,
   "id": "d91ac953",
   "metadata": {},
   "outputs": [
    {
     "data": {
      "text/plain": [
       "vote_question\n",
       "On Agreeing to the Amendment     7213\n",
       "On the Amendment                 3548\n",
       "On Passage                       2369\n",
       "On Agreeing to the Resolution    2038\n",
       "On the Cloture Motion            1945\n",
       "Name: count, dtype: int64"
      ]
     },
     "execution_count": 21,
     "metadata": {},
     "output_type": "execute_result"
    }
   ],
   "source": [
    "df[\"vote_question\"].value_counts().head()"
   ]
  },
  {
   "cell_type": "code",
   "execution_count": 23,
   "id": "046cdf63",
   "metadata": {},
   "outputs": [
    {
     "data": {
      "text/plain": [
       "vote_question\n",
       "On agreeing to the Substitute Amendment, as amended                       1\n",
       "Previous Question on Motion to Refer Veto Message                         1\n",
       "On motion to proceed in order                                             1\n",
       "On agreeing to the Amendments en bloc, as modified                        1\n",
       "On agreeing to the Amendment as modified                                  1\n",
       "On Agreeing to the Committee Substitute as Amended                        1\n",
       "Committees to Sit during 5 minute Rule for Balance of Week                1\n",
       "On ordering the Previous Question                                         1\n",
       "On motion to table the appeal                                             1\n",
       "On agreeing to the amendment                                              1\n",
       "on agreeing to the amendment                                              1\n",
       "Motion to rise                                                            1\n",
       "motion to rise                                                            1\n",
       "On motion to Limit Debate                                                 1\n",
       "Motion to Rise                                                            1\n",
       "Motion to rise and strike the resolving clause                            1\n",
       "previous question on motion to instruct conferees                         1\n",
       "motion to instruct conferees                                              1\n",
       "On motion to recommit the Conference Report                               1\n",
       "On Motion to Dispose of Senate Amendments En Bloc                         1\n",
       "Question of Consideration of the Committee Substitute Amendment           1\n",
       "table motion to proceed in order                                          1\n",
       "strike the words from the record                                          1\n",
       "table appeal of the ruling of the Chair                                   1\n",
       "On Motion to Discharge the Judiciary Committee                            1\n",
       "On agreeing to the conference report                                      1\n",
       "Close portions of the conference                                          1\n",
       "Close portions of the Conference                                          1\n",
       "Strike the enacting clause                                                1\n",
       "Permission to use exhibit                                                 1\n",
       "On Agreeing to Subsection D of the Amendment                              1\n",
       "On agreeing to Subsecs. A, B, & C of the Amendment                        1\n",
       "Question of consideration of the amendment                                1\n",
       "Consideration of H.J. Res. 159, as Amended                                1\n",
       "Consideration of Motion to Recommit With Instructions                     1\n",
       "Agree to Senate amendment with amendments                                 1\n",
       "Passage, objections of the President notwithstanding                      1\n",
       "Passage, the Objections of the President Notwithstanding                  1\n",
       "table the appeal of the ruling of the chair                               1\n",
       "Motion to declare recesses                                                1\n",
       "Recede from H.amendment to S.amendment #115 w/adt                         1\n",
       "Recommit the Conference Report With Instructions                          1\n",
       "On motion to agree to the Senate Amendment                                1\n",
       "On motion to agree to Senate Amendment                                    1\n",
       "on motion to proceed in order                                             1\n",
       "table the appeal of ruling of the chair                                   1\n",
       "disagree to S.adt. to H. adt. to S. adt # 115                             1\n",
       "Postpone consideration of Veto Message to a date certain                  1\n",
       "Postpone Veto to a date certain                                           1\n",
       "On Motion to Suspend the Rules and Agree to the Resolution, as Amended    1\n",
       "Name: count, dtype: int64"
      ]
     },
     "execution_count": 23,
     "metadata": {},
     "output_type": "execute_result"
    }
   ],
   "source": [
    "df[\"vote_question\"].value_counts().tail(50)"
   ]
  },
  {
   "cell_type": "code",
   "execution_count": null,
   "id": "5df32e99",
   "metadata": {},
   "outputs": [],
   "source": []
  }
 ],
 "metadata": {
  "kernelspec": {
   "display_name": "env",
   "language": "python",
   "name": "python3"
  },
  "language_info": {
   "codemirror_mode": {
    "name": "ipython",
    "version": 3
   },
   "file_extension": ".py",
   "mimetype": "text/x-python",
   "name": "python",
   "nbconvert_exporter": "python",
   "pygments_lexer": "ipython3",
   "version": "3.13.0"
  }
 },
 "nbformat": 4,
 "nbformat_minor": 5
}
